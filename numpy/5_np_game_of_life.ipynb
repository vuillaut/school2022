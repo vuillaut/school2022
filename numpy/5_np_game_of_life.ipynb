{
 "cells": [
  {
   "cell_type": "markdown",
   "id": "251bf9ec",
   "metadata": {},
   "source": [
    "# Conway's Game of Life in NumPy\n",
    "\n",
    "\n",
    "Tamás Gál (tamas.gal@fau.de)\n",
    "\n",
    "The latest version of this notebook is available at [https://github.com/escape2020/school2022](https://github.com/escape2020/school2022) The implementation in this notebook is inspired by Nicolas Rougier."
   ]
  },
  {
   "cell_type": "markdown",
   "id": "c8df67fe",
   "metadata": {},
   "source": [
    "![ConwaysGameOfLife](https://conwaylife.com/w/images/0/0d/Conwaylife.gif)"
   ]
  },
  {
   "cell_type": "markdown",
   "id": "655c876a",
   "metadata": {},
   "source": [
    "[Conway's Game of Life](\n",
    "https://conwaylife.com/wiki/Conway%27s_Game_of_Life) is a zero-player game and a lot of fun. It's all about birth, death and survival. The game consists of a 2-dimensional board and starts with a random state. The next generation (frame) is calculated using the following four rules:\n",
    "\n",
    "1. Any live cell with fewer than two live neighbours dies (referred to as underpopulation or exposure[1]).\n",
    "2. Any live cell with more than three live neighbours dies (referred to as overpopulation or overcrowding).\n",
    "3. Any live cell with two or three live neighbours lives, unchanged, to the next generation.\n",
    "4. Any dead cell with exactly three live neighbours will come to life.\n",
    "\n",
    "Start with a small board, e.g. `5x5` using `NumPy`:\n",
    "\n",
    "    rng = np.random.default_rng(62)\n",
    "    G = rng.integers(0, 2, (5,5))\n",
    "    \n",
    "and figure out how to calculate the frame of the next generation. You can use `plt.imshow()` from `Matplotlib` to visualise the board.\n",
    "\n",
    "Bonus: create a function called `iterate(G)` which returns the next generation's frame and try `from matplotlib.animation import FuncAnimation` to create an animation with `Matplotlib`. Don't forget to set `%matplotlib notebook`."
   ]
  }
 ],
 "metadata": {
  "kernelspec": {
   "display_name": "escape2022",
   "language": "python",
   "name": "escape2022"
  },
  "language_info": {
   "codemirror_mode": {
    "name": "ipython",
    "version": 3
   },
   "file_extension": ".py",
   "mimetype": "text/x-python",
   "name": "python",
   "nbconvert_exporter": "python",
   "pygments_lexer": "ipython3",
   "version": "3.9.12"
  }
 },
 "nbformat": 4,
 "nbformat_minor": 5
}
